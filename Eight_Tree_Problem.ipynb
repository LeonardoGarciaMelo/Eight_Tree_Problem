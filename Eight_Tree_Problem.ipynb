{
 "cells": [
  {
   "cell_type": "code",
   "execution_count": 2,
   "id": "87b4da38-44e0-419d-9e94-c44e520c9080",
   "metadata": {
    "tags": []
   },
   "outputs": [],
   "source": [
    "from qiskit import QuantumCircuit\n",
    "from qiskit_aer import AerSimulator\n",
    "\n",
    "\n",
    "def count_sets(lista: list):\n",
    "    qc = QuantumCircuit(9, 1)\n",
    "    for k, v in enumerate(lista):\n",
    "        qc.initialize(v, k)\n",
    "    for c in range(8,1,-1):\n",
    "        qc.ccx([c-2],[c-1],[c])\n",
    "    for c in range(0,8):\n",
    "        qc.cx([c],[c+1])\n",
    "    qc.measure(8, 0)\n",
    "    backend = AerSimulator()\n",
    "    job = backend.run(qc, shots=1024)\n",
    "    result = job.result()\n",
    "\n",
    "    counts = result.get_counts()\n",
    "    retorno = int(list(counts.keys())[0])\n",
    "    return retorno\n"
   ]
  }
 ],
 "metadata": {
  "kernelspec": {
   "display_name": "Qiskit v1.0.2 (ipykernel)",
   "language": "python",
   "name": "python3"
  },
  "language_info": {
   "codemirror_mode": {
    "name": "ipython",
    "version": 3
   },
   "file_extension": ".py",
   "mimetype": "text/x-python",
   "name": "python",
   "nbconvert_exporter": "python",
   "pygments_lexer": "ipython3",
   "version": "3.10.8"
  },
  "widgets": {
   "application/vnd.jupyter.widget-state+json": {
    "state": {},
    "version_major": 2,
    "version_minor": 0
   }
  }
 },
 "nbformat": 4,
 "nbformat_minor": 5
}
